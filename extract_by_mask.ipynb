{
 "cells": [
  {
   "cell_type": "markdown",
   "metadata": {},
   "source": [
    "Extract by mask. Feb 18, 2025. Maxim Altan-Lu Shapovalov"
   ]
  },
  {
   "cell_type": "code",
   "execution_count": 57,
   "metadata": {},
   "outputs": [],
   "source": [
    "import arcpy\n",
    "from arcpy.sa import * # get sparial analyst module from arcpy"
   ]
  },
  {
   "cell_type": "code",
   "execution_count": 59,
   "metadata": {},
   "outputs": [],
   "source": [
    "# specify what we are working with\n",
    "inputR = \"sept_clip1\" # the input raster which I'll want to crop with the mask\n",
    "maskR = \"LCP_justHabitats\" # the mask itself"
   ]
  },
  {
   "cell_type": "code",
   "execution_count": 60,
   "metadata": {},
   "outputs": [],
   "source": [
    "# apply the mask\n",
    "landsat_with_habitat_mask = ExtractByMask(inputR, maskR)"
   ]
  },
  {
   "cell_type": "code",
   "execution_count": 61,
   "metadata": {},
   "outputs": [],
   "source": [
    "# save the result for future use\n",
    "pathh = \"C:\\ms4564\\ArcGIS\\Sentinel RTC\\sept2022\\masks\\landsat_with_habitat_mask\\landsat_with_habitat_mask.tif\" # define path, file name, and the extension\n",
    "landsat_with_habitat_mask.save(pathh) # save it in the specified location"
   ]
  },
  {
   "cell_type": "code",
   "execution_count": null,
   "metadata": {},
   "outputs": [],
   "source": []
  }
 ],
 "metadata": {
  "kernelspec": {
   "display_name": "ArcGISPro",
   "language": "python",
   "name": "python3"
  },
  "language_info": {
   "file_extension": ".py",
   "mimetype": "text/x-python",
   "name": "python",
   "version": "3.11.10"
  }
 },
 "nbformat": 4,
 "nbformat_minor": 4
}

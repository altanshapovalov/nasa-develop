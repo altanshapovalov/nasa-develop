{
 "cells": [
  {
   "cell_type": "markdown",
   "metadata": {},
   "source": [
    "Extracting by attributes: take out the habitat layer out of a mask. Feb 18. 2025. Maxim Altan-Lu Shapovalov"
   ]
  },
  {
   "cell_type": "code",
   "execution_count": 32,
   "metadata": {},
   "outputs": [],
   "source": [
    "# libraries\n",
    "import arcpy\n",
    "from arcpy.sa import * # from arcpy's spatial analyst module import all necessary functions within"
   ]
  },
  {
   "cell_type": "code",
   "execution_count": 34,
   "metadata": {},
   "outputs": [],
   "source": [
    "inputR = \"chen_waterfowl_mask_2016_urban_2020_ccap_nhdh_reclass_subset_thematic_ext.img\" # input raster\n",
    "outputR = \"LCP_justHabitats1.tif\" # output raster name (think of one and have the extension)"
   ]
  },
  {
   "cell_type": "code",
   "execution_count": 35,
   "metadata": {},
   "outputs": [],
   "source": [
    "# analysis time\n",
    "extrV = ExtractByAttributes(inputR, \"Value = 1\") # extraction ratser and value. 1 is habitat, 0 is not habitat\n",
    "# save the output\n",
    "extrV.save(outputR)"
   ]
  },
  {
   "cell_type": "code",
   "execution_count": null,
   "metadata": {},
   "outputs": [],
   "source": []
  }
 ],
 "metadata": {
  "kernelspec": {
   "display_name": "ArcGISPro",
   "language": "python",
   "name": "python3"
  },
  "language_info": {
   "file_extension": ".py",
   "mimetype": "text/x-python",
   "name": "python",
   "version": "3.11.10"
  }
 },
 "nbformat": 4,
 "nbformat_minor": 4
}

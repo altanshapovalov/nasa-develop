{
 "cells": [
  {
   "cell_type": "markdown",
   "metadata": {},
   "source": [
    "Extract certain month from groundtruth dataset. Feb 17, 2025. Maxim Altan-Lu Shapovalov"
   ]
  },
  {
   "cell_type": "code",
   "execution_count": 1,
   "metadata": {},
   "outputs": [],
   "source": [
    "import arcpy # the library we'll need"
   ]
  },
  {
   "cell_type": "code",
   "execution_count": 2,
   "metadata": {},
   "outputs": [],
   "source": [
    "# specify details\n",
    "input_fc = \"Ground_truthing_data\" # the input feature class\n",
    "output_fc = \"groundtruth_sept2022\" # name of output feature class\n",
    "date_field = \"date_time\" # name of column that holds dates in the dataset"
   ]
  },
  {
   "cell_type": "code",
   "execution_count": 3,
   "metadata": {},
   "outputs": [],
   "source": [
    "# sql query to filter september data\n",
    "query = f\"EXTRACT(MONTH FROM {date_field}) = 9\""
   ]
  },
  {
   "cell_type": "code",
   "execution_count": 5,
   "metadata": {},
   "outputs": [
    {
     "data": {
      "text/html": [
       "<div class='gpresult'><h2 class='msg-title'>Messages</h2><div id='messages'>Start Time: Monday, February 17, 2025 12:42:57 PM<br>Succeeded at Monday, February 17, 2025 12:42:58 PM (Elapsed Time: 0.59 seconds)<br></div><div id = 'default' /></div></div>"
      ],
      "text/plain": [
       "<Result 'C:\\\\ms4564\\\\ArcGIS\\\\Landsat_SEPT_2022\\\\Landsat_check_1.gdb\\\\groundtruth_sept2022'>"
      ]
     },
     "execution_count": 5,
     "metadata": {},
     "output_type": "execute_result"
    }
   ],
   "source": [
    "# do the selection and importing\n",
    "arcpy.analysis.Select(input_fc,output_fc,query)"
   ]
  },
  {
   "cell_type": "code",
   "execution_count": null,
   "metadata": {},
   "outputs": [],
   "source": []
  }
 ],
 "metadata": {
  "kernelspec": {
   "display_name": "ArcGISPro",
   "language": "python",
   "name": "python3"
  },
  "language_info": {
   "file_extension": ".py",
   "mimetype": "text/x-python",
   "name": "python",
   "version": "3.11.10"
  }
 },
 "nbformat": 4,
 "nbformat_minor": 4
}

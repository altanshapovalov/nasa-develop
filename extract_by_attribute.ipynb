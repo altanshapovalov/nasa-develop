{
 "cells": [
  {
   "cell_type": "markdown",
   "metadata": {},
   "source": [
    "Extracting by attributes: take out the habitat layer out of a mask. Feb 18. 2025. Maxim Altan-Lu Shapovalov"
   ]
  },
  {
   "cell_type": "code",
   "execution_count": 53,
   "metadata": {},
   "outputs": [],
   "source": [
    "# libraries\n",
    "import arcpy\n",
    "from arcpy.sa import * # from arcpy's spatial analyst module import all necessary functions within"
   ]
  },
  {
   "cell_type": "code",
   "execution_count": 54,
   "metadata": {},
   "outputs": [],
   "source": [
    "inputR = \"chen_waterfowl_mask_2016_urban_2020_ccap_nhdh_reclass_subset_thematic_ext.img\" # input raster\n",
    "outputR = \"C:\\ms4564\\ArcGIS\\Sentinel RTC\\sept2022\\masks\\LCP_justHabitats\\LCP_justHabitats2.tif\" # output raster path and name with extension"
   ]
  },
  {
   "cell_type": "code",
   "execution_count": 55,
   "metadata": {},
   "outputs": [
    {
     "name": "stdout",
     "output_type": "stream",
     "text": [
      "['OID', 'Value', 'Count']\n",
      "(0, 0, 8745167.0)\n",
      "(1, 1, 10641227.0)\n"
     ]
    }
   ],
   "source": [
    "# before we extract what we want, we \n",
    "fields = [field.name for field in arcpy.ListFields(inputR)] # now we know the field names\n",
    "print(fields) #  see the field names\n",
    "\n",
    "# see the values in each of the fields\n",
    "with arcpy.da.SearchCursor(inputR, fields) as cursor:\n",
    "    for row in cursor:\n",
    "        print(row)"
   ]
  },
  {
   "cell_type": "code",
   "execution_count": 56,
   "metadata": {},
   "outputs": [],
   "source": [
    "# based on previous output, I want to select the Value field and work with \"1\"\n",
    "extrV = ExtractByAttributes(inputR, \"Value = 1\") # extraction ratser and value. 1 is habitat, 0 is not habitat\n",
    "# save the output\n",
    "extrV.save(outputR)"
   ]
  },
  {
   "cell_type": "code",
   "execution_count": null,
   "metadata": {},
   "outputs": [],
   "source": []
  }
 ],
 "metadata": {
  "kernelspec": {
   "display_name": "ArcGISPro",
   "language": "python",
   "name": "python3"
  },
  "language_info": {
   "file_extension": ".py",
   "mimetype": "text/x-python",
   "name": "python",
   "version": "3.11.10"
  }
 },
 "nbformat": 4,
 "nbformat_minor": 4
}
